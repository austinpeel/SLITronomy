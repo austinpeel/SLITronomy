{
 "cells": [
  {
   "cell_type": "markdown",
   "metadata": {
    "colab_type": "text",
    "id": "IxNYmeXJx9Ap"
   },
   "source": [
    "# Detailed timing of the lensing operator construction "
   ]
  },
  {
   "cell_type": "code",
   "execution_count": 1,
   "metadata": {
    "colab": {
     "base_uri": "https://localhost:8080/",
     "height": 368
    },
    "colab_type": "code",
    "executionInfo": {
     "elapsed": 872,
     "status": "error",
     "timestamp": 1582926863569,
     "user": {
      "displayName": "Aymeric Galan",
      "photoUrl": "",
      "userId": "16983078411242349434"
     },
     "user_tz": -60
    },
    "id": "RNlAmarUx9At",
    "outputId": "eee6125d-335a-4274-bf0c-2d5f349bd95d"
   },
   "outputs": [],
   "source": [
    "import numpy as np\n",
    "from scipy import sparse\n",
    "import time\n",
    "\n",
    "import lenstronomy.Util.simulation_util as sim_util\n",
    "import lenstronomy.Util.image_util as image_util\n",
    "import lenstronomy.Util.util as lenstro_util\n",
    "from lenstronomy.Data.imaging_data import ImageData\n",
    "from lenstronomy.LensModel.lens_model import LensModel\n",
    "\n",
    "from slitronomy.Lensing.lensing_operator import LensingOperator, LensingOperatorInterpol "
   ]
  },
  {
   "cell_type": "code",
   "execution_count": 2,
   "metadata": {
    "colab": {},
    "colab_type": "code",
    "id": "4iqLxk27x9Az"
   },
   "outputs": [],
   "source": [
    "class Timer(object):\n",
    "    \"\"\"simple class for easy timing\"\"\"\n",
    "    def __init__(self):\n",
    "        pass\n",
    "    @classmethod\n",
    "    def start(cls, txt):\n",
    "        cls._txt = txt\n",
    "        cls._time = time.time()\n",
    "        cls._total = 0\n",
    "    @classmethod\n",
    "    def stop(cls):\n",
    "        print(\"time for {} : {:.3e} s\".format(cls._txt, time.time()-cls._time))\n",
    "        cls._total += time.time()-cls._time\n",
    "        del cls._time\n",
    "        del cls._txt\n",
    "    @classmethod\n",
    "    def start_loop(cls, txt, ID):\n",
    "        \"\"\"To be used when timing a routine that is executed several times in a loop (assigning unique ID)\"\"\"\n",
    "        if not hasattr(cls, '_loop_ids'):\n",
    "            cls._loop_ids = {}\n",
    "            cls._loop_txts = {}\n",
    "        if not ID in cls._loop_ids:\n",
    "            cls._loop_ids[ID] = []  # create new ID (i.e. new set of timings for a specific loop)\n",
    "        cls._loop_txts[ID] = txt\n",
    "        cls._loop_ids[ID].append(time.time())  # add start time\n",
    "    @classmethod\n",
    "    def stop_loop(cls, ID):\n",
    "        \"\"\"stop timer for last item if the list corresponding to this ID\"\"\"\n",
    "        cls._loop_ids[ID][-1] = time.time() - cls._loop_ids[ID][-1]\n",
    "    @classmethod\n",
    "    def print_loop(cls, ID):\n",
    "        \"\"\"Print detailed timing string for this ID\"\"\"\n",
    "        mean = np.mean(cls._loop_ids[ID])\n",
    "        std = np.std(cls._loop_ids[ID])\n",
    "        print(\"average time for {} : {:.3e} ± {:.3e} s\".format(cls._loop_txts[ID], mean, std))\n",
    "        cls._total += mean\n",
    "        del cls._loop_ids[ID]\n",
    "        del cls._loop_txts[ID]\n",
    "    @classmethod\n",
    "    def print_total(cls):\n",
    "        print(\"total : {} s\".format(cls._total))\n",
    "        del cls._total"
   ]
  },
  {
   "cell_type": "code",
   "execution_count": 3,
   "metadata": {
    "colab": {
     "base_uri": "https://localhost:8080/",
     "height": 232
    },
    "colab_type": "code",
    "executionInfo": {
     "elapsed": 26005,
     "status": "error",
     "timestamp": 1582926576968,
     "user": {
      "displayName": "Aymeric Galan",
      "photoUrl": "",
      "userId": "16983078411242349434"
     },
     "user_tz": -60
    },
    "id": "LqbjLaZnx9A2",
    "outputId": "3b2dd6f0-ffda-4a86-f7b9-5109e032b08e"
   },
   "outputs": [],
   "source": [
    "num_pix = 99\n",
    "delta_pix = 0.08\n",
    "\n",
    "_, _, ra_at_xy_0, dec_at_xy_0, _, _, Mpix2coord, _ \\\n",
    "    = lenstro_util.make_grid_with_coordtransform(numPix=num_pix, deltapix=delta_pix, subgrid_res=1, \n",
    "                                                 inverse=False, left_lower=False)\n",
    "kwargs_data = {\n",
    "    #'background_rms': background_rms,\n",
    "    #'exposure_time': np.ones((num_pix, num_pix)) * exp_time,  # individual exposure time/weight per pixel\n",
    "    'ra_at_xy_0': ra_at_xy_0, 'dec_at_xy_0': dec_at_xy_0, \n",
    "    'transform_pix2angle': Mpix2coord,\n",
    "    'image_data': np.zeros((num_pix, num_pix))\n",
    "}\n",
    "data_class = ImageData(**kwargs_data)\n",
    "\n",
    "lens_model_list = ['SPEP']\n",
    "kwargs_spemd = {'theta_E': 2, 'gamma': 2, 'center_x': 0, 'center_y': 0, 'e1': -0.05, 'e2': 0.05}\n",
    "kwargs_lens = [kwargs_spemd]#, kwargs_shear]\n",
    "lens_model_class = LensModel(lens_model_list=lens_model_list)\n",
    "\n",
    "kwargs_special = {'delta_x_source_grid': 0, 'delta_y_source_grid': 0}"
   ]
  },
  {
   "cell_type": "code",
   "execution_count": 4,
   "metadata": {
    "colab": {},
    "colab_type": "code",
    "id": "1SrLBUZZx9A4"
   },
   "outputs": [],
   "source": [
    "# init the 'simple' operator\n",
    "lensing_op = LensingOperator(data_class, lens_model_class, subgrid_res_source=1, \n",
    "                             likelihood_mask=None, minimal_source_plane=False, min_num_pix_source=10,\n",
    "                             fix_minimal_source_plane=True, matrix_prod=True)\n",
    "\n",
    "# init the 'interpol' operator\n",
    "lensing_op_interp = LensingOperatorInterpol(data_class, lens_model_class, subgrid_res_source=1, \n",
    "                             likelihood_mask=None, minimal_source_plane=False, min_num_pix_source=10,\n",
    "                             fix_minimal_source_plane=True)"
   ]
  },
  {
   "cell_type": "markdown",
   "metadata": {
    "colab_type": "text",
    "id": "dREXnJEWx9A7"
   },
   "source": [
    "### Copy-paste of methods from `slitronomy` for detailed timing"
   ]
  },
  {
   "cell_type": "code",
   "execution_count": 5,
   "metadata": {
    "colab": {},
    "colab_type": "code",
    "id": "4gZQ0T2Tx9A7"
   },
   "outputs": [],
   "source": [
    "def compute_mapping_TIMING(lensing_operator_class, kwargs_lens, kwargs_special):\n",
    "    self_ = lensing_operator_class  # alias\n",
    "    \n",
    "    # delete previous mapping and init the new one\n",
    "    self_.delete_mapping()\n",
    "\n",
    "    # initialize matrix\n",
    "    Timer.start(\"mapping init\")\n",
    "    if self_._matrix_prod:\n",
    "        lens_mapping_matrix = np.zeros((self_.imagePlane.grid_size, self_.sourcePlane.grid_size))\n",
    "    else:\n",
    "        lens_mapping_list = []\n",
    "    Timer.stop()\n",
    "\n",
    "    # backward ray-tracing to get source coordinates in image plane (the 'betas')\n",
    "    Timer.start(\"ray shooting\")\n",
    "    beta_x, beta_y = self_.lensModel.ray_shooting(self_.imagePlane.theta_x, self_.imagePlane.theta_y, kwargs_lens)\n",
    "    Timer.stop()\n",
    "    \n",
    "    # get source plane offsets\n",
    "    grid_offset_x, grid_offset_y = self_._source_grid_offsets(kwargs_special)\n",
    "\n",
    "    # iterate through indices of image plane (indices 'i')\n",
    "    Timer.start(\"pixel iteration\")\n",
    "    for i in range(self_.imagePlane.grid_size):\n",
    "        # find source pixel that corresponds to ray traced image pixel\n",
    "        Timer.start_loop(\"find source pixel\", ID=0)\n",
    "        j = self_._find_source_pixel(i, beta_x, beta_y, grid_offset_x=grid_offset_x, grid_offset_y=grid_offset_y)\n",
    "        Timer.stop_loop(ID=0)\n",
    "        \n",
    "        # fill the mapping array\n",
    "        Timer.start_loop(\"filling array\", ID=1)\n",
    "        if self_._matrix_prod:\n",
    "            lens_mapping_matrix[i, j] = 1\n",
    "        else:\n",
    "            lens_mapping_list.append(j)\n",
    "        Timer.stop_loop(ID=1)\n",
    "    Timer.stop()\n",
    "    Timer.print_loop(ID=0)\n",
    "    Timer.print_loop(ID=1)\n",
    "\n",
    "    if self_._matrix_prod:\n",
    "        # convert numpy array to sparse matrix, using Compressed Sparse Row (CSR) format for fast vector products\n",
    "        Timer.start(\"convert matrix to sparse matrix\")\n",
    "        self_._lens_mapping = sparse.csr_matrix(lens_mapping_matrix)\n",
    "        Timer.stop()\n",
    "    else:\n",
    "        # convert the list to array\n",
    "        Timer.start(\"convert list to array\")\n",
    "        self_._lens_mapping = np.array(lens_mapping_list)\n",
    "        Timer.stop()\n",
    "        \n",
    "    Timer.print_total()\n",
    "        \n",
    "\n",
    "def compute_mapping_interpol_TIMING(lensing_operator_interpol_class, kwargs_lens, kwargs_special):\n",
    "    self_ = lensing_operator_interpol_class  # alias\n",
    "    \n",
    "    # delete previous mapping and init the new one\n",
    "    self_.delete_mapping()\n",
    "\n",
    "    # initialize matrix\n",
    "    Timer.start(\"mapping init\")\n",
    "    lens_mapping_matrix = np.zeros((self_.imagePlane.grid_size, self_.sourcePlane.grid_size))\n",
    "    Timer.stop()\n",
    "\n",
    "    # backward ray-tracing to get source coordinates in image plane (the 'betas')\n",
    "    Timer.start(\"ray shooting\")\n",
    "    beta_x, beta_y = self_.lensModel.ray_shooting(self_.imagePlane.theta_x, self_.imagePlane.theta_y, kwargs_lens)\n",
    "    Timer.stop()\n",
    "    \n",
    "    # get source plane offsets\n",
    "    grid_offset_x, grid_offset_y = self_._source_grid_offsets(kwargs_special)\n",
    "    \n",
    "    # iterate through indices of image plane (indices 'i')\n",
    "    Timer.start(\"pixel iteration\")\n",
    "    for i in range(self_.imagePlane.grid_size):\n",
    "        # find source pixel that corresponds to ray traced image pixel\n",
    "        Timer.start_loop(\"finding neighbouring pixels\", ID=0)\n",
    "        j_list, _, dist_A_x, dist_A_y = self_._find_surrounding_source_pixels(i, beta_x, beta_y, grid_offset_x=grid_offset_x, grid_offset_y=grid_offset_y)\n",
    "        Timer.stop_loop(ID=0)\n",
    "        \n",
    "        # get interpolation weights\n",
    "        weight_list = self_._bilinear_weights(dist_A_x, dist_A_y)\n",
    "\n",
    "        # remove pixels and weights that are outside source plane grid\n",
    "        if self_._minimal_source_plane:\n",
    "            Timer.start_loop(\"checking inside grid\", ID=1)\n",
    "            j_list, weight_list = self_._check_inside_grid(j_list, weight_list)\n",
    "            Timer.stop_loop(ID=1)\n",
    "\n",
    "        # fill the mapping arrays\n",
    "        Timer.start_loop(\"filling array\", ID=2)\n",
    "        lens_mapping_matrix[i, j_list] = weight_list\n",
    "        Timer.stop_loop(ID=2)\n",
    "        \n",
    "    Timer.stop()\n",
    "    Timer.print_loop(ID=0)\n",
    "    if self_._minimal_source_plane:\n",
    "        Timer.print_loop(ID=1)\n",
    "    Timer.print_loop(ID=2)\n",
    "    \n",
    "    # convert numpy array to sparse matrix, using Compressed Sparse Row (CSR) format for fast vector products\n",
    "    Timer.start(\"convert matrix to sparse matrix\")\n",
    "    self_._lens_mapping = sparse.csr_matrix(lens_mapping_matrix)\n",
    "    Timer.stop()\n",
    "    \n",
    "    Timer.print_total()"
   ]
  },
  {
   "cell_type": "markdown",
   "metadata": {
    "colab_type": "text",
    "id": "JIrMxKdlx9A9"
   },
   "source": [
    "## Detailed timing for `source_subgrid_res = 1`"
   ]
  },
  {
   "cell_type": "code",
   "execution_count": 6,
   "metadata": {
    "colab": {},
    "colab_type": "code",
    "id": "54DGsPKHx9A-"
   },
   "outputs": [],
   "source": [
    "lensing_op.sourcePlane.subgrid_resolution = 1\n",
    "lensing_op_interp.sourcePlane.subgrid_resolution = 1"
   ]
  },
  {
   "cell_type": "code",
   "execution_count": 7,
   "metadata": {
    "colab": {},
    "colab_type": "code",
    "id": "54DGsPKHx9A-"
   },
   "outputs": [
    {
     "name": "stdout",
     "output_type": "stream",
     "text": [
      "1.26 s ± 31.5 ms per loop (mean ± std. dev. of 7 runs, 1 loop each)\n",
      "1.22 s ± 8.06 ms per loop (mean ± std. dev. of 7 runs, 1 loop each)\n",
      "1.73 s ± 65.5 ms per loop (mean ± std. dev. of 7 runs, 1 loop each)\n",
      "1.68 s ± 48.6 ms per loop (mean ± std. dev. of 7 runs, 1 loop each)\n"
     ]
    }
   ],
   "source": [
    "%timeit lensing_op._compute_mapping(kwargs_lens, kwargs_special)\n",
    "%timeit lensing_op.update_mapping(kwargs_lens, kwargs_special)\n",
    "\n",
    "%timeit lensing_op_interp._compute_mapping(kwargs_lens, kwargs_special)\n",
    "%timeit lensing_op_interp.update_mapping(kwargs_lens, kwargs_special)\n",
    "\n",
    "# update_mapping adds little overhead compared to _compute_mapping due to computing source mask"
   ]
  },
  {
   "cell_type": "code",
   "execution_count": 8,
   "metadata": {
    "colab": {},
    "colab_type": "code",
    "id": "Dd8IiJ05x9BA",
    "scrolled": false
   },
   "outputs": [
    {
     "name": "stdout",
     "output_type": "stream",
     "text": [
      "time for mapping init : 2.098e-05 s\n",
      "time for ray shooting : 1.692e-03 s\n",
      "time for pixel iteration : 4.430e-01 s\n",
      "average time for find source pixel : 4.134e-05 ± 9.423e-06 s\n",
      "average time for filling array : 2.390e-06 ± 1.374e-06 s\n",
      "time for convert matrix to sparse matrix : 7.550e-01 s\n",
      "total : 0.7551021575927734 s\n"
     ]
    }
   ],
   "source": [
    "compute_mapping_TIMING(lensing_op, kwargs_lens, kwargs_special)"
   ]
  },
  {
   "cell_type": "code",
   "execution_count": 9,
   "metadata": {
    "colab": {},
    "colab_type": "code",
    "id": "YTVAdBxFx9BD",
    "scrolled": false
   },
   "outputs": [
    {
     "name": "stdout",
     "output_type": "stream",
     "text": [
      "time for mapping init : 2.003e-05 s\n",
      "time for ray shooting : 1.703e-03 s\n",
      "time for pixel iteration : 8.565e-01 s\n",
      "average time for finding neighbouring pixels : 7.802e-05 ± 1.477e-05 s\n",
      "average time for filling array : 6.511e-06 ± 2.545e-06 s\n",
      "time for convert matrix to sparse matrix : 7.520e-01 s\n",
      "total : 0.7520828247070312 s\n"
     ]
    }
   ],
   "source": [
    "compute_mapping_interpol_TIMING(lensing_op_interp, kwargs_lens, kwargs_special)"
   ]
  },
  {
   "cell_type": "markdown",
   "metadata": {
    "colab_type": "text",
    "id": "1vcnqoO5x9BE"
   },
   "source": [
    "## Comparison when increasing `source_subgrid_res`"
   ]
  },
  {
   "cell_type": "code",
   "execution_count": 10,
   "metadata": {
    "colab": {},
    "colab_type": "code",
    "id": "P3I8Tucrx9BF"
   },
   "outputs": [
    {
     "name": "stdout",
     "output_type": "stream",
     "text": [
      "Warning : reset effective_mask to only 1s\n",
      "Warning : reset effective_mask to only 1s\n"
     ]
    }
   ],
   "source": [
    "lensing_op.sourcePlane.subgrid_resolution = 2\n",
    "lensing_op_interp.sourcePlane.subgrid_resolution = 2"
   ]
  },
  {
   "cell_type": "code",
   "execution_count": null,
   "metadata": {
    "colab": {},
    "colab_type": "code",
    "id": "P3I8Tucrx9BF"
   },
   "outputs": [
    {
     "name": "stdout",
     "output_type": "stream",
     "text": [
      "4.47 s ± 135 ms per loop (mean ± std. dev. of 7 runs, 1 loop each)\n"
     ]
    }
   ],
   "source": [
    "%timeit lensing_op.update_mapping(kwargs_lens, kwargs_special)\n",
    "%timeit lensing_op_interp.update_mapping(kwargs_lens, kwargs_special)"
   ]
  },
  {
   "cell_type": "code",
   "execution_count": null,
   "metadata": {
    "colab": {},
    "colab_type": "code",
    "id": "l6Wb6ALXx9BI"
   },
   "outputs": [],
   "source": [
    "compute_mapping_TIMING(lensing_op, kwargs_lens, kwargs_special)"
   ]
  },
  {
   "cell_type": "code",
   "execution_count": null,
   "metadata": {
    "colab": {},
    "colab_type": "code",
    "id": "B4Ivvx_7x9BJ"
   },
   "outputs": [],
   "source": [
    "compute_mapping_interpol_TIMING(lensing_op_interp, kwargs_lens, kwargs_special)"
   ]
  },
  {
   "cell_type": "markdown",
   "metadata": {},
   "source": [
    "### Converting a dense matrix to a sparse matrix"
   ]
  },
  {
   "cell_type": "code",
   "execution_count": null,
   "metadata": {},
   "outputs": [],
   "source": [
    "n1, n2 = 99**2, 99**2\n",
    "#n1, n2 = 10, 10\n",
    "%timeit np.random.rand(n1, n2)"
   ]
  },
  {
   "cell_type": "code",
   "execution_count": null,
   "metadata": {},
   "outputs": [],
   "source": [
    "dense_mat = np.random.rand(n1, n2)\n",
    "print(dense_mat.shape)"
   ]
  },
  {
   "cell_type": "code",
   "execution_count": null,
   "metadata": {},
   "outputs": [],
   "source": [
    "from scipy import sparse"
   ]
  },
  {
   "cell_type": "code",
   "execution_count": null,
   "metadata": {},
   "outputs": [],
   "source": [
    "%timeit sparse.csr_matrix(dense_mat)"
   ]
  },
  {
   "cell_type": "code",
   "execution_count": null,
   "metadata": {},
   "outputs": [],
   "source": [
    "sparse_mat = sparse.csr_matrix(dense_mat)"
   ]
  },
  {
   "cell_type": "code",
   "execution_count": null,
   "metadata": {},
   "outputs": [],
   "source": [
    "sparse_mat"
   ]
  },
  {
   "cell_type": "code",
   "execution_count": null,
   "metadata": {},
   "outputs": [],
   "source": [
    "%timeit np.squeeze(np.maximum(1, dense_mat.sum(axis=0)))\n",
    "%timeit np.squeeze(np.maximum(1, sparse_mat.sum(axis=0)).A)"
   ]
  },
  {
   "cell_type": "code",
   "execution_count": null,
   "metadata": {},
   "outputs": [],
   "source": [
    "norm_from_dense = np.squeeze(np.maximum(1, dense_mat.sum(axis=0)))\n",
    "print(norm_from_dense.shape)\n",
    "\n",
    "norm_from_sparse = np.squeeze(np.maximum(1, sparse_mat.sum(axis=0)).A)\n",
    "print(norm_from_sparse.shape)"
   ]
  },
  {
   "cell_type": "code",
   "execution_count": null,
   "metadata": {},
   "outputs": [],
   "source": []
  }
 ],
 "metadata": {
  "accelerator": "GPU",
  "colab": {
   "collapsed_sections": [],
   "name": "timing_lensing_op.ipynb",
   "provenance": []
  },
  "kernelspec": {
   "display_name": "Pystro3.6",
   "language": "python",
   "name": "pystro3.6"
  },
  "language_info": {
   "codemirror_mode": {
    "name": "ipython",
    "version": 3
   },
   "file_extension": ".py",
   "mimetype": "text/x-python",
   "name": "python",
   "nbconvert_exporter": "python",
   "pygments_lexer": "ipython3",
   "version": "3.6.8"
  }
 },
 "nbformat": 4,
 "nbformat_minor": 1
}
