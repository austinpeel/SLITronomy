{
 "cells": [
  {
   "cell_type": "markdown",
   "metadata": {},
   "source": [
    "# Assessing auto-differentiation speed improvement\n",
    "\n",
    "This notebooks aims to have a feeling on the speedup that can be brought by replacing classical gradient descent algorithms used in `SLITronomy` by an auto-differentiation scheme.\n",
    "\n",
    "We wish to assess the feasability and usefulness of rewriting the loss function designed for the SLIT algorithm in a `TensorFlow` formalism, through a simple test case and timing of function evaluations."
   ]
  },
  {
   "cell_type": "code",
   "execution_count": 1,
   "metadata": {},
   "outputs": [
    {
     "name": "stdout",
     "output_type": "stream",
     "text": [
      "\n",
      "                 .|'''|       /.\\      '||'''|,\n",
      "                 ||          // \\\\      ||   ||\n",
      "'||''|, '||  ||` `|'''|,    //...\\\\     ||...|'\n",
      " ||  ||  `|..||   .   ||   //     \\\\    ||\n",
      " ||..|'      ||   |...|' .//       \\\\. .||\n",
      " ||       ,  |'\n",
      ".||        ''\n",
      "\n",
      "Package version: 0.0.3\n",
      "\n",
      "License: CeCILL-B\n",
      "\n",
      "Authors: \n",
      "\n",
      "Antoine Grigis <antoine.grigis@cea.fr>\n",
      "Samuel Farrens <samuel.farrens@cea.fr>\n",
      "Jean-Luc Starck <jl.stark@cea.fr>\n",
      "Philippe Ciuciu <philippe.ciuciu@cea.fr>\n",
      "\n",
      "Dependencies: \n",
      "\n",
      "scipy          : >=1.3.0   - required | 1.3.0     installed\n",
      "numpy          : >=1.16.4  - required | 1.17.0    installed\n",
      "matplotlib     : >=3.0.0   - required | 3.1.1     installed\n",
      "astropy        : >=3.0.0   - required | 3.2.1     installed\n",
      "nibabel        : >=2.3.2   - required | 2.5.1     installed\n",
      "pyqtgraph      : >=0.10.0  - required | 0.10.0    installed\n",
      "progressbar2   : >=3.34.3  - required | ?         installed\n",
      "modopt         : >=1.4.0   - required | 1.4.1     installed\n",
      "scikit-learn   : >=0.19.1  - required | ?         installed\n",
      "pywt           : >=1.0.0   - required | 1.1.0.dev0+389d62b installed\n",
      "pysparse       : >=0.0.1   - required | 0.1.0     installed\n",
      "\n"
     ]
    }
   ],
   "source": [
    "__author__ = 'aymgal', ''\n",
    "import os\n",
    "import sys\n",
    "import copy\n",
    "import time\n",
    "import numpy as np\n",
    "import matplotlib.pyplot as plt\n",
    "import pysap\n",
    "\n",
    "import lenstronomy.Util.simulation_util as sim_util\n",
    "import lenstronomy.Util.image_util as image_util\n",
    "import lenstronomy.Util.util as lenstro_util\n",
    "from lenstronomy.ImSim.image_model import ImageModel\n",
    "from lenstronomy.Data.imaging_data import ImageData\n",
    "from lenstronomy.Data.psf import PSF\n",
    "from lenstronomy.LensModel.lens_model import LensModel\n",
    "from lenstronomy.LightModel.light_model import LightModel\n",
    "from lenstronomy.Util import kernel_util\n",
    "\n",
    "from lenstronomy.ImSim.image_sparse_solve import ImageSparseFit\n",
    "from slitronomy.Util.plot_util import nice_colorbar\n",
    "\n",
    "%matplotlib inline\n",
    "\n",
    "# =========\n",
    "\n",
    "# type of lensing operator\n",
    "lensing_operator = 'interpol'  # 'interpol' or 'simple'\n",
    "\n",
    "# number of times to subdivide source plane grid\n",
    "subgrid_res_source = 2\n",
    "\n",
    "# starlets scales\n",
    "n_scales_source = 6\n",
    "n_scales_lens_light = 6\n",
    "\n",
    "# compute and reduced source plane to minimal size\n",
    "minimal_source_plane = False\n",
    "\n",
    "# use the image mask computed through noise threshold\n",
    "use_threshold_mask = False\n",
    "\n",
    "# ========="
   ]
  },
  {
   "cell_type": "code",
   "execution_count": 2,
   "metadata": {},
   "outputs": [],
   "source": [
    "lin_scale = lambda x: x\n",
    "log_scale = lambda x: np.log10(x)\n",
    "sqrt_scale = lambda x: np.sqrt(x)"
   ]
  },
  {
   "cell_type": "markdown",
   "metadata": {},
   "source": [
    "## Generate a mock lens"
   ]
  },
  {
   "cell_type": "code",
   "execution_count": 3,
   "metadata": {},
   "outputs": [],
   "source": [
    "# data specifics\n",
    "num_pix = 99  # cutout pixel size\n",
    "delta_pix = 0.08  # pixel size in arcsec (area per pixel = deltaPix**2)\n",
    "\n",
    "background_rms = 0.05  # background noise per pixel\n",
    "#exp_time = 400  # exposure time (arbitrary units, flux per pixel is in units #photons/exp_time unit)\n",
    "\n",
    "psf_fwhm = 0.2  # full width half max of PSF, in delta_pix units\n",
    "psf_num_pix = 41"
   ]
  },
  {
   "cell_type": "code",
   "execution_count": 4,
   "metadata": {},
   "outputs": [],
   "source": [
    "# data specification (coordinates, etc.)\n",
    "_, _, ra_at_xy_0, dec_at_xy_0, _, _, Mpix2coord, _ \\\n",
    "    = lenstro_util.make_grid_with_coordtransform(numPix=num_pix, deltapix=delta_pix, subgrid_res=1, \n",
    "                                                 inverse=False, left_lower=False)\n",
    "\n",
    "kwargs_data = {\n",
    "    'background_rms': background_rms,\n",
    "    #'exposure_time': exp_time,  # individual exposure time/weight per pixel\n",
    "    'ra_at_xy_0': ra_at_xy_0, 'dec_at_xy_0': dec_at_xy_0, \n",
    "    'transform_pix2angle': Mpix2coord,\n",
    "    'image_data': np.zeros((num_pix, num_pix))\n",
    "}\n",
    "data_class = ImageData(**kwargs_data)"
   ]
  },
  {
   "cell_type": "code",
   "execution_count": 5,
   "metadata": {},
   "outputs": [
    {
     "name": "stdout",
     "output_type": "stream",
     "text": [
      "(41, 41) (82, 82)\n"
     ]
    },
    {
     "data": {
      "image/png": "[encoded data removed]",
      "text/plain": [
       "<Figure size 432x288 with 2 Axes>"
      ]
     },
     "metadata": {
      "needs_background": "light"
     },
     "output_type": "display_data"
    }
   ],
   "source": [
    "# PSF specification\n",
    "psf_kernel = kernel_util.kernel_gaussian(psf_num_pix, delta_pix, psf_fwhm)\n",
    "psf_kernel_hd = kernel_util.kernel_gaussian(int(psf_num_pix*subgrid_res_source), \n",
    "                                              delta_pix/subgrid_res_source, \n",
    "                                              psf_fwhm)\n",
    "print(psf_kernel.shape, psf_kernel_hd.shape)\n",
    "kwargs_psf = {'psf_type': 'PIXEL', 'kernel_point_source': psf_kernel}\n",
    "psf_class = PSF(**kwargs_psf)\n",
    "\n",
    "plt.title(\"PSF kernel\")\n",
    "im = plt.imshow(psf_class.kernel_point_source, origin='lower')\n",
    "nice_colorbar(im)\n",
    "plt.show()"
   ]
  },
  {
   "cell_type": "code",
   "execution_count": 6,
   "metadata": {},
   "outputs": [],
   "source": [
    "lens_model_list = ['SPEMD']\n",
    "kwargs_spemd = {'theta_E': 2, 'gamma': 2, 'center_x': 0, 'center_y': 0, 'e1': 0.1, 'e2': -0.2}\n",
    "kwargs_lens = [kwargs_spemd]#, kwargs_shear]\n",
    "lens_model_class = LensModel(lens_model_list=lens_model_list)\n",
    "\n",
    "# list of source light profiles\n",
    "source_model_list = ['SERSIC_ELLIPSE']\n",
    "kwargs_source = [{'amp': 80, 'R_sersic': 0.5, 'n_sersic': 1, 'e1': 0.1, 'e2': 0.1,\n",
    "                  'center_x': 0.1, 'center_y': 0.2}]\n",
    "source_model_class = LightModel(light_model_list=source_model_list)\n",
    "\n",
    "# list of lens light profiles\n",
    "lens_light_model_list = ['SERSIC_ELLIPSE']\n",
    "kwargs_lens_light = [{'amp': 10, 'R_sersic': 2, 'n_sersic': 3, 'e1': -0.2, 'e2': 0.1,\n",
    "                      'center_x': 0, 'center_y': 0}]\n",
    "lens_light_model_class = LightModel(light_model_list=lens_light_model_list)"
   ]
  },
  {
   "cell_type": "code",
   "execution_count": 7,
   "metadata": {},
   "outputs": [
    {
     "data": {
      "image/png": "[encoded data removed]",
      "text/plain": [
       "<Figure size 432x288 with 2 Axes>"
      ]
     },
     "metadata": {
      "needs_background": "light"
     },
     "output_type": "display_data"
    }
   ],
   "source": [
    "kwargs_numerics = {'supersampling_factor': 3, 'supersampling_convolution': False}\n",
    "\n",
    "# get the simalated lens image (i.e. image plane)\n",
    "imageModel = ImageModel(data_class, psf_class, lens_model_class, source_model_class, \n",
    "                        lens_light_model_class, point_source_class=None, \n",
    "                        kwargs_numerics=kwargs_numerics)\n",
    "\n",
    "image_sim_no_noise = imageModel.image(kwargs_lens, kwargs_source, kwargs_lens_light, kwargs_ps=None)\n",
    "\n",
    "bkg = image_util.add_background(image_sim_no_noise, sigma_bkd=background_rms)\n",
    "#poisson = image_util.add_poisson(image_sim_no_noise, exp_time=exp_time)\n",
    "noise = bkg # + poisson\n",
    "image_sim = image_sim_no_noise + noise\n",
    "image_sim_1d = lenstro_util.image2array(image_sim)\n",
    "\n",
    "kwargs_data['image_data'] = image_sim\n",
    "if kwargs_data.get('exposure_time', None) is None:\n",
    "    kwargs_data['noise_map'] = background_rms * np.ones_like(image_sim)\n",
    "data_class = ImageData(**kwargs_data)\n",
    "\n",
    "plt.title(\"mock lens\")\n",
    "im = plt.imshow(image_sim, origin='lower', cmap='cubehelix')\n",
    "nice_colorbar(im)\n",
    "plt.show()"
   ]
  },
  {
   "cell_type": "markdown",
   "metadata": {},
   "source": [
    "## Setup sparse optimizazion"
   ]
  },
  {
   "cell_type": "code",
   "execution_count": 8,
   "metadata": {},
   "outputs": [],
   "source": [
    "source_model_list_sparsefit = ['STARLETS']\n",
    "kwargs_starlets_source = {'n_scales': n_scales_source, 'n_pixels': np.size(image_sim)*subgrid_res_source**2}  # add center_x/center_y\n",
    "kwargs_source_sparsefit = [kwargs_starlets_source]\n",
    "source_model_class_sparsefit = LightModel(light_model_list=source_model_list_sparsefit)\n",
    "\n",
    "#lens_light_model_list_sparsefit = ['STARLETS']\n",
    "#kwargs_starlets_lens_light = {'n_scales': n_scales_lens_light, 'n_pixels': np.size(image_sim)}  # add center_x/center_y\n",
    "#kwargs_lens_light_sparsefit = [kwargs_starlets_lens_light]\n",
    "#lens_light_model_class_sparsefit = LightModel(light_model_list=lens_light_model_list_sparsefit)\n",
    "\n",
    "kwargs_special_sparsefit = {\n",
    "    'delta_x_source_grid': 0,\n",
    "    'delta_y_source_grid': 0,\n",
    "}\n",
    "\n",
    "if use_threshold_mask:\n",
    "    likelihood_mask = image_mask.astype(bool)\n",
    "else:\n",
    "    likelihood_mask = None\n",
    "\n",
    "kwargs_sparse_solver = {\n",
    "    'lensing_operator': lensing_operator,  # 'simple' or 'interpol'\n",
    "    \n",
    "    'subgrid_res_source': subgrid_res_source,\n",
    "    'minimal_source_plane': minimal_source_plane,\n",
    "    'min_num_pix_source': 69,\n",
    "    \n",
    "    'formulation': 'analysis',\n",
    "    'initial_guess_type': 'noise_map',  # or 'background_rms' for just initializing with gaussian noise\n",
    "    'force_positivity': True,\n",
    "    'sparsity_prior_norm': 1,\n",
    "    'max_threshold': 5,\n",
    "    'max_threshold_high_freq': 10,\n",
    "    'num_iter': 100,\n",
    "    #'num_iter_source': 100,\n",
    "    #'num_iter_lens': 100,\n",
    "    'num_iter_weights': 1,\n",
    "    'verbose': True,\n",
    "    'show_steps': True,\n",
    "}\n",
    "\n",
    "imageSparseFit = ImageSparseFit(data_class, psf_class=psf_class, \n",
    "                                lens_model_class=lens_model_class,\n",
    "                                source_model_class=source_model_class_sparsefit,\n",
    "                                #lens_light_model_class=lens_light_model_class_sparsefit,\n",
    "                                likelihood_mask=likelihood_mask,\n",
    "                                kwargs_sparse_solver=kwargs_sparse_solver)\n"
   ]
  },
  {
   "cell_type": "markdown",
   "metadata": {},
   "source": [
    "## Timings of current implementation"
   ]
  },
  {
   "cell_type": "code",
   "execution_count": 9,
   "metadata": {},
   "outputs": [],
   "source": [
    "# we can isolate the solver object\n",
    "solver = imageSparseFit.sparseSolver"
   ]
  },
  {
   "cell_type": "markdown",
   "metadata": {},
   "source": [
    "### Compute lensing operator"
   ]
  },
  {
   "cell_type": "code",
   "execution_count": 10,
   "metadata": {},
   "outputs": [
    {
     "name": "stdout",
     "output_type": "stream",
     "text": [
      "Lensing operator building took 5.407832e+00 s\n"
     ]
    }
   ],
   "source": [
    "# update manually the lensing operator\n",
    "start = time.time()\n",
    "solver.lensingOperator.update_mapping(kwargs_lens)\n",
    "end = time.time()\n",
    "print(\"Lensing operator building took {:e} s\".format(end-start))\n",
    "\n",
    "# Note that this operation can hardly be cast in `tensforflow` but how knows?"
   ]
  },
  {
   "cell_type": "code",
   "execution_count": 11,
   "metadata": {},
   "outputs": [],
   "source": [
    "# some random source and (convolved) lens light estimates\n",
    "S = np.random.rand(num_pix*subgrid_res_source, num_pix*subgrid_res_source)\n",
    "HG = np.random.rand(num_pix, num_pix)"
   ]
  },
  {
   "cell_type": "markdown",
   "metadata": {},
   "source": [
    "### Call to the loss function"
   ]
  },
  {
   "cell_type": "code",
   "execution_count": 12,
   "metadata": {},
   "outputs": [
    {
     "name": "stdout",
     "output_type": "stream",
     "text": [
      "Single call to loss function took 3.260851e-03 s\n"
     ]
    }
   ],
   "source": [
    "start = time.time()\n",
    "loss = solver.loss(S=S, HG=HG)\n",
    "end = time.time()\n",
    "print(\"Single call to loss function took {:e} s\".format(end-start))"
   ]
  },
  {
   "cell_type": "markdown",
   "metadata": {},
   "source": [
    "### Call to the gradient"
   ]
  },
  {
   "cell_type": "code",
   "execution_count": 13,
   "metadata": {},
   "outputs": [
    {
     "name": "stdout",
     "output_type": "stream",
     "text": [
      "Single call to loss function (wrt source) took 2.753973e-03 s\n"
     ]
    }
   ],
   "source": [
    "start = time.time()\n",
    "loss = solver.gradient_loss_source(S)\n",
    "end = time.time()\n",
    "print(\"Single call to loss function (wrt source) took {:e} s\".format(end-start))\n",
    "\n",
    "#start = time.time()\n",
    "#loss = solver.gradient_loss_lens(HG)\n",
    "#end = time.time()\n",
    "#print(\"Single call to loss function (wrt lens) took {:e} s\".format(end-start))"
   ]
  },
  {
   "cell_type": "markdown",
   "metadata": {},
   "source": [
    "## Comparison with `TensorFlow`'s auto-differentiation"
   ]
  },
  {
   "cell_type": "code",
   "execution_count": 14,
   "metadata": {},
   "outputs": [],
   "source": [
    "# WIP"
   ]
  },
  {
   "cell_type": "code",
   "execution_count": null,
   "metadata": {},
   "outputs": [],
   "source": []
  }
 ],
 "metadata": {
  "kernelspec": {
   "display_name": "Pystro3.6",
   "language": "python",
   "name": "pystro3.6"
  },
  "language_info": {
   "codemirror_mode": {
    "name": "ipython",
    "version": 3
   },
   "file_extension": ".py",
   "mimetype": "text/x-python",
   "name": "python",
   "nbconvert_exporter": "python",
   "pygments_lexer": "ipython3",
   "version": "3.6.8"
  }
 },
 "nbformat": 4,
 "nbformat_minor": 1
}
