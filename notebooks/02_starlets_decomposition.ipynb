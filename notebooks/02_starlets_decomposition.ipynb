{
 "cells": [
  {
   "cell_type": "markdown",
   "metadata": {},
   "source": [
    "# Testing the light profile : _starlet_ decomposition"
   ]
  },
  {
   "cell_type": "code",
   "execution_count": null,
   "metadata": {},
   "outputs": [],
   "source": [
    "import os\n",
    "import sys\n",
    "import time\n",
    "import PIL\n",
    "import pysap\n",
    "import numpy as np\n",
    "import matplotlib.pyplot as plt\n",
    "import astropy.io.fits as pyfits\n",
    "\n",
    "from lenstronomy.LightModel.Profiles.starlets import Starlets\n",
    "#from lenstronomy.Util.util import make_grid\n",
    "\n",
    "from MuSLIT.utils.plot import nice_colorbar\n",
    "\n",
    "%matplotlib inline"
   ]
  },
  {
   "cell_type": "code",
   "execution_count": null,
   "metadata": {},
   "outputs": [],
   "source": [
    "lin_scale = lambda x: x\n",
    "log_scale = lambda x: np.log10(x)\n",
    "sqrt_scale = lambda x: np.sqrt(x)"
   ]
  },
  {
   "cell_type": "code",
   "execution_count": null,
   "metadata": {
    "scrolled": true
   },
   "outputs": [],
   "source": [
    "image = pyfits.open('../../Lens_modelling/gravlensgen/Data/various_images/M81_HST_prepared_n100.fits')[0].data\n",
    "image[image < 0] = 0.\n",
    "print(image.min(), image.max())\n",
    "\n",
    "im = plt.imshow(image, origin='lower')\n",
    "nice_colorbar(im)\n",
    "plt.show()"
   ]
  },
  {
   "cell_type": "markdown",
   "metadata": {},
   "source": [
    "## Decompose and decompose an image with starlet transform"
   ]
  },
  {
   "cell_type": "code",
   "execution_count": null,
   "metadata": {},
   "outputs": [],
   "source": [
    "starlet_profile = Starlets(thread_count=4, fast_inverse=True, second_gen=True) # fast_inverse=True)"
   ]
  },
  {
   "cell_type": "markdown",
   "metadata": {},
   "source": [
    "### Decompose image into starlet coefficients"
   ]
  },
  {
   "cell_type": "code",
   "execution_count": null,
   "metadata": {},
   "outputs": [],
   "source": [
    "x, y = None, None  # normally out the coordinates grid here, not used for this profile\n",
    "n_scales = 6\n",
    "coeffs = starlet_profile.decomposition(image, n_scales=n_scales)\n",
    "\n",
    "fig, axes = plt.subplots(1, n_scales, figsize=(20, 4))\n",
    "for i in range(coeffs.shape[0]):\n",
    "    im = axes[i].imshow(coeffs[i, :, :], origin='lower')\n",
    "    nice_colorbar(im)\n",
    "plt.show()"
   ]
  },
  {
   "cell_type": "markdown",
   "metadata": {},
   "source": [
    "### Reconcstruct image from starlet coefficients"
   ]
  },
  {
   "cell_type": "code",
   "execution_count": null,
   "metadata": {},
   "outputs": [],
   "source": [
    "image_recon = starlet_profile.function(coeffs, n_scales=n_scales)\n",
    "\n",
    "fig, axes = plt.subplots(1, 2, figsize=(10, 4))\n",
    "im = axes[0].imshow(image_recon, origin='lower')\n",
    "nice_colorbar(im)\n",
    "im = axes[1].imshow(image-image_recon, origin='lower', cmap='seismic')\n",
    "nice_colorbar(im)\n",
    "plt.show()"
   ]
  },
  {
   "cell_type": "code",
   "execution_count": null,
   "metadata": {},
   "outputs": [],
   "source": []
  }
 ],
 "metadata": {
  "kernelspec": {
   "display_name": "Pystro3.6",
   "language": "python",
   "name": "pystro3.6"
  },
  "language_info": {
   "codemirror_mode": {
    "name": "ipython",
    "version": 3
   },
   "file_extension": ".py",
   "mimetype": "text/x-python",
   "name": "python",
   "nbconvert_exporter": "python",
   "pygments_lexer": "ipython3",
   "version": "3.6.8"
  }
 },
 "nbformat": 4,
 "nbformat_minor": 1
}
